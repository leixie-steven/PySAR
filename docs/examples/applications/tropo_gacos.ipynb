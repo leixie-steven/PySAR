{
 "cells": [
  {
   "cell_type": "code",
   "execution_count": 23,
   "metadata": {},
   "outputs": [],
   "source": [
    "## Tropospheric delay correction using GACOS from New Castle U\n",
    "## for geocoded dataset\n",
    "%matplotlib inline\n",
    "import os\n",
    "import numpy as np\n",
    "import matplotlib.pyplot as plt\n",
    "from skimage.transform import resize\n",
    "from pysar.objects import timeseries\n",
    "from pysar.utils import ptime, readfile, utils as ut\n",
    "\n",
    "ztd_dir = os.path.expanduser('/media/lei/disk2/ErtaAle/20190605/SenAT14/WEATHER/GACOS')\n",
    "proj_dir = os.path.expanduser('/media/lei/disk2/ErtaAle/20190605/SenAT14/PYSAR')\n",
    "\n",
    "out_file = os.path.join(proj_dir, 'INPUTS/GACOS.h5')\n",
    "ts_file = os.path.join(proj_dir, 'timeseries.h5')\n",
    "geom_file = os.path.join(proj_dir, 'INPUTS/geometryRadar.h5')"
   ]
  },
  {
   "cell_type": "code",
   "execution_count": 24,
   "metadata": {},
   "outputs": [],
   "source": [
    "def get_geo_delay(fztd, geo_box, atr, inc_angle):\n",
    "    meta = readfile.read_attribute(fztd)\n",
    "    coord = ut.coordinate(meta)\n",
    "    box = coord.box_geo2pixel(geo_box)\n",
    "    phs = readfile.read(fztd, box=box)[0]\n",
    "    phs[phs == 0] = np.nan\n",
    "\n",
    "    # interpolation\n",
    "    out_shape = (int(atr['LENGTH']), int(atr['WIDTH']))\n",
    "    phs = resize(phs, out_shape, order=1, mode='edge', anti_aliasing=True)\n",
    "\n",
    "    phs /= np.cos(inc_angle * np.pi / 180)\n",
    "    phs -= phs[int(atr['REF_Y']), int(atr['REF_X'])]\n",
    "    phs *= -1\n",
    "    return phs"
   ]
  },
  {
   "cell_type": "code",
   "execution_count": 25,
   "metadata": {},
   "outputs": [
    {
     "name": "stdout",
     "output_type": "stream",
     "text": [
      "open timeseries file: timeseries.h5\n"
     ]
    }
   ],
   "source": [
    "# 1. get time-series file info\n",
    "obj = timeseries(ts_file)\n",
    "obj.open()\n",
    "atr = readfile.read_attribute(ts_file)\n",
    "\n",
    "# get box_box\n",
    "pixel_box = (0, 0, int(atr['WIDTH']), int(atr['LENGTH']))\n",
    "geo_box = ut.coordinate(atr).box_pixel2geo(pixel_box)\n",
    "\n",
    "# get inc_angle\n",
    "inc_angle = readfile.read(geom_file, datasetName='incidenceAngle')[0]\n",
    "\n",
    "# get grib file list\n",
    "fztd_list = [os.path.join(ztd_dir, '{}.ztd'.format(i)) for i in obj.dateList]"
   ]
  },
  {
   "cell_type": "code",
   "execution_count": 7,
   "metadata": {},
   "outputs": [
    {
     "name": "stdout",
     "output_type": "stream",
     "text": [
      "[==================================================] 20190425.ztd    0s /     0s \n",
      "create timeseries HDF5 file: /media/lei/disk2/ErtaAle/20190605/SenAT14/PYSAR/INPUTS/GACOS.h5 with w mode\n",
      "create dataset /timeseries of float32    in size of (35, 900, 500) with compression=None\n",
      "create dataset /dates      of |S8        in size of (35,)\n",
      "create dataset /bperp      of float32    in size of (35,)\n",
      "finished writing to /media/lei/disk2/ErtaAle/20190605/SenAT14/PYSAR/INPUTS/GACOS.h5\n"
     ]
    },
    {
     "data": {
      "text/plain": [
       "'/media/lei/disk2/ErtaAle/20190605/SenAT14/PYSAR/INPUTS/GACOS.h5'"
      ]
     },
     "execution_count": 7,
     "metadata": {},
     "output_type": "execute_result"
    }
   ],
   "source": [
    "# calculate deley time-series\n",
    "num_date = obj.numDate\n",
    "tropo = np.zeros((num_date, obj.length, obj.width), dtype=np.float32)\n",
    "prog_bar = ptime.progressBar(maxValue=num_date)\n",
    "for i in range(num_date):\n",
    "    fztd = fztd_list[i]\n",
    "    tropo[i, :, :] = get_geo_delay(fztd, geo_box, atr, inc_angle)\n",
    "    prog_bar.update(i+1, suffix=os.path.basename(fztd))\n",
    "prog_bar.close()\n",
    "tropo -= np.tile(tropo[0, :, :], (num_date, 1, 1))\n",
    "\n",
    "# write deley to h5 file\n",
    "obj_out = timeseries(out_file)\n",
    "obj_out.write2hdf5(data=tropo,\n",
    "                   dates=obj.dateList,\n",
    "                   metadata=atr,\n",
    "                   refFile=ts_file)"
   ]
  },
  {
   "cell_type": "code",
   "execution_count": 26,
   "metadata": {
    "scrolled": true
   },
   "outputs": [
    {
     "name": "stdout",
     "output_type": "stream",
     "text": [
      "Go to directory /media/lei/disk2/ErtaAle/20190605/SenAT14/PYSAR\n",
      "timeseries.h5 - ['INPUTS/GACOS.h5'] --> timeseries_GACOS.h5\n",
      "input files are: timeseries and timeseries\n",
      "open timeseries file: timeseries.h5\n",
      "open timeseries file: GACOS.h5\n",
      "consider different reference pixel\n",
      "reading timeseries data from file: timeseries.h5 ...\n",
      "create timeseries HDF5 file: timeseries_GACOS.h5 with w mode\n",
      "create dataset /timeseries of float32    in size of (29, 900, 500) with compression=None\n",
      "create dataset /dates      of |S8        in size of (29,)\n",
      "create dataset /bperp      of float32    in size of (29,)\n",
      "finished writing to timeseries_GACOS.h5\n",
      "read options from template file: pysarApp_template.txt\n",
      "read mean incidenceAngle,slantRangeDistance,bperp value from timeseries file\n",
      "near   incidence angle : 30.8616 degree\n",
      "far    incidence angle : 33.8532 degree\n",
      "center incidence angle : 32.3574 degree\n",
      "center range : 810604.65 m\n",
      "near   range : 798980.14 m\n",
      "far    range : 822229.17 m\n",
      "open timeseries file: timeseries_GACOS.h5\n",
      "--------------------------------------------------------------------------------\n",
      "correct topographic phase residual (DEM error) (Fattahi & Amelung, 2013, IEEE-TGRS)\n",
      "ordinal least squares (OLS) inversion with L2-norm minimization on: phase\n",
      "temporal deformation model: polynomial order = 2\n",
      "--------------------------------------------------------------------------------\n",
      "open timeseries file: timeseries_GACOS.h5\n",
      "exclude the following dates for DEM error estimation: (1)\n",
      "['exclude_date.txt']\n",
      "reading timeseries data from file: timeseries_GACOS.h5 ...\n",
      "inverting DEM error ...\n",
      "skip pixels with zero/NaN value in all acquisitions\n",
      "add/update the following configuration metadata to file:\n",
      "['polyOrder', 'phaseVelocity', 'stepFuncDate', 'excludeDate']\n",
      "delete exsited file: demErr.h5\n",
      "create HDF5 file: demErr.h5 with w mode\n",
      "create dataset /dem of float32    in size of (900, 500)           with compression=None\n",
      "finished writing to demErr.h5\n",
      "create timeseries HDF5 file: timeseries_GACOS_demErr.h5 with w mode\n",
      "create dataset /timeseries of float32    in size of (29, 900, 500) with compression=None\n",
      "create dataset /dates      of |S8        in size of (29,)\n",
      "create dataset /bperp      of float32    in size of (29,)\n",
      "finished writing to timeseries_GACOS_demErr.h5\n",
      "create timeseries HDF5 file: timeseriesResidual.h5 with w mode\n",
      "create dataset /timeseries of float32    in size of (29, 900, 500) with compression=None\n",
      "create dataset /dates      of |S8        in size of (29,)\n",
      "create dataset /bperp      of float32    in size of (29,)\n",
      "finished writing to timeseriesResidual.h5\n",
      "time used: 00 mins 1.0 secs.\n"
     ]
    }
   ],
   "source": [
    "# correct time-series\n",
    "work_dir = '/media/lei/disk2/ErtaAle/20190605/SenAT14/PYSAR'\n",
    "os.chdir(work_dir)\n",
    "print('Go to directory', work_dir)\n",
    "\n",
    "!diff.py timeseries.h5 INPUTS/GACOS.h5 -o timeseries_GACOS.h5\n",
    "#!remove_ramp.py timeseries_GACOS.h5 -m maskTempCoh.h5 -s quadratic\n",
    "!dem_error.py timeseries_GACOS.h5 -t pysarApp_template.txt"
   ]
  },
  {
   "cell_type": "code",
   "execution_count": 28,
   "metadata": {
    "scrolled": true
   },
   "outputs": [
    {
     "name": "stdout",
     "output_type": "stream",
     "text": [
      "run view.py in PySAR release version v1.1.0-14, release date 2019-05-01\n",
      "input file is timeseries file: /media/lei/disk2/ErtaAle/20190605/SenAT14/PYSAR/timeseries_GACOS_demErr.h5 in float32 format\n",
      "file size in y/x: (900, 500)\n",
      "num of datasets in file timeseries_GACOS_demErr.h5: 29\n",
      "datasets to exclude (0):\n",
      "[]\n",
      "datasets to display (29):\n",
      "['timeseries-20170204', 'timeseries-20170914', 'timeseries-20180112', 'timeseries-20180124', 'timeseries-20180205', 'timeseries-20180217', 'timeseries-20180301', 'timeseries-20180313', 'timeseries-20180325', 'timeseries-20180430', 'timeseries-20180524', 'timeseries-20180605', 'timeseries-20180617', 'timeseries-20180629', 'timeseries-20180816', 'timeseries-20181003', 'timeseries-20181015', 'timeseries-20181027', 'timeseries-20181120', 'timeseries-20181202', 'timeseries-20181214', 'timeseries-20181226', 'timeseries-20190107', 'timeseries-20190119', 'timeseries-20190224', 'timeseries-20190320', 'timeseries-20190401', 'timeseries-20190413', 'timeseries-20190425']\n",
      "data   coverage in y/x: (0, 0, 500, 900)\n",
      "subset coverage in y/x: (0, 0, 500, 900)\n",
      "data   coverage in lat/lon: None\n",
      "subset coverage in lat/lon: None\n",
      "------------------------------------------------------------------------\n",
      "colormap: jet\n",
      "ASCENDING orbit -> flip up-down\n",
      "figure title: timeseries_GACOS_demErr\n",
      "figure size : [15.0, 8.0]\n",
      "dataset number: 29\n",
      "row     number: 3\n",
      "column  number: 10\n",
      "figure  number: 1\n",
      "read mask from file: maskTempCoh.h5\n",
      "turn off reference pixel plot for more than 10 datasets to display\n",
      "----------------------------------------\n",
      "Figure 1 - timeseries_GACOS_demErr.png\n",
      "data    range: [-15.771331, 14.557843] cm\n",
      "display range: [-25.0, 15.0] cm\n",
      "masking data\n",
      "plotting ...\n",
      "[==================================================] timeseries-20190425    0s /     0s\n",
      "data    range: [-15.771331, 14.557843] cm\n",
      "display range: [-25.0, 15.0] cm\n",
      "show colorbar\n",
      "save figure to timeseries_GACOS_demErr.png with dpi=300\n",
      "run view.py in PySAR release version v1.1.0-14, release date 2019-05-01\n",
      "input file is timeseries file: /media/lei/disk2/ErtaAle/20190605/SenAT14/PYSAR/timeseries_ECMWF_demErr.h5 in float32 format\n",
      "file size in y/x: (900, 500)\n",
      "num of datasets in file timeseries_ECMWF_demErr.h5: 29\n",
      "datasets to exclude (0):\n",
      "[]\n",
      "datasets to display (29):\n",
      "['timeseries-20170204', 'timeseries-20170914', 'timeseries-20180112', 'timeseries-20180124', 'timeseries-20180205', 'timeseries-20180217', 'timeseries-20180301', 'timeseries-20180313', 'timeseries-20180325', 'timeseries-20180430', 'timeseries-20180524', 'timeseries-20180605', 'timeseries-20180617', 'timeseries-20180629', 'timeseries-20180816', 'timeseries-20181003', 'timeseries-20181015', 'timeseries-20181027', 'timeseries-20181120', 'timeseries-20181202', 'timeseries-20181214', 'timeseries-20181226', 'timeseries-20190107', 'timeseries-20190119', 'timeseries-20190224', 'timeseries-20190320', 'timeseries-20190401', 'timeseries-20190413', 'timeseries-20190425']\n",
      "data   coverage in y/x: (0, 0, 500, 900)\n",
      "subset coverage in y/x: (0, 0, 500, 900)\n",
      "data   coverage in lat/lon: None\n",
      "subset coverage in lat/lon: None\n",
      "------------------------------------------------------------------------\n",
      "colormap: jet\n",
      "ASCENDING orbit -> flip up-down\n",
      "figure title: timeseries_ECMWF_demErr\n",
      "figure size : [15.0, 8.0]\n",
      "dataset number: 29\n",
      "row     number: 3\n",
      "column  number: 10\n",
      "figure  number: 1\n",
      "read mask from file: maskTempCoh.h5\n",
      "turn off reference pixel plot for more than 10 datasets to display\n",
      "----------------------------------------\n",
      "Figure 1 - timeseries_ECMWF_demErr.png\n",
      "data    range: [-15.238939, 12.905253] cm\n",
      "display range: [-25.0, 15.0] cm\n",
      "masking data\n",
      "plotting ...\n",
      "[==================================================] timeseries-20190425    0s /     0s\n",
      "data    range: [-15.238939, 12.905253] cm\n",
      "display range: [-25.0, 15.0] cm\n",
      "show colorbar\n",
      "save figure to timeseries_ECMWF_demErr.png with dpi=300\n"
     ]
    }
   ],
   "source": [
    "!view.py timeseries_GACOS_demErr.h5 -v -25 15 --nodisplay\n",
    "!view.py timeseries_ECMWF_demErr.h5 -v -25 15 --nodisplay"
   ]
  },
  {
   "cell_type": "code",
   "execution_count": null,
   "metadata": {},
   "outputs": [],
   "source": []
  },
  {
   "cell_type": "code",
   "execution_count": null,
   "metadata": {},
   "outputs": [],
   "source": []
  }
 ],
 "metadata": {
  "kernelspec": {
   "display_name": "Python 3",
   "language": "python",
   "name": "python3"
  },
  "language_info": {
   "codemirror_mode": {
    "name": "ipython",
    "version": 3
   },
   "file_extension": ".py",
   "mimetype": "text/x-python",
   "name": "python",
   "nbconvert_exporter": "python",
   "pygments_lexer": "ipython3",
   "version": "3.5.2"
  }
 },
 "nbformat": 4,
 "nbformat_minor": 2
}
