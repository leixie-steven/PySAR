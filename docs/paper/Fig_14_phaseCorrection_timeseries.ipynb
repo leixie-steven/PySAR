{
 "cells": [
  {
   "cell_type": "code",
   "execution_count": 13,
   "metadata": {},
   "outputs": [
    {
     "name": "stdout",
     "output_type": "stream",
     "text": [
      "Go to directory: /media/lei/disk2/ErtaAle/20190605/SenAT14/PYSAR\n",
      "Done.\n"
     ]
    }
   ],
   "source": [
    "## Figure 14 - Phase Corrections in Time-series Domain shown in map/point view on Isabela island\n",
    "%matplotlib inline\n",
    "import os\n",
    "from dateutil.relativedelta import relativedelta\n",
    "import numpy as np\n",
    "import matplotlib.pyplot as plt\n",
    "from matplotlib.ticker import AutoMinorLocator\n",
    "from pysar.simulation.plot import *\n",
    "from pysar.utils import ptime, readfile, writefile, utils as ut, network as pnet, plot as pp\n",
    "from pysar.objects import timeseries, sensor\n",
    "\n",
    "#work_dir = os.path.expanduser('~/insarlab/Galapagos/GalapagosSenDT128/PYSAR/GEOCODE')\n",
    "\n",
    "work_dir = '/media/lei/disk2/ErtaAle/20190605/SenAT14/PYSAR'\n",
    "os.chdir(work_dir)\n",
    "print('Go to directory: '+work_dir)\n",
    "proj_name = sensor.project_name2sensor_name(work_dir)[1]\n",
    "\n",
    "#pts_lat, pts_lon = -1.0352, -91.1917\n",
    "pts_lat, pts_lon = 13.44,40.7\n",
    "mask_file = 'lava_a.h5'\n",
    "ts_files = ['geo_timeseries.h5', \n",
    "            'ECMWF.h5', \n",
    "            'ramp.h5',\n",
    "            #'topoResid.h5',\n",
    "            'geo_timeseries_ECMWF_ramp_demErr.h5']\n",
    "labels = ['Raw phase',\n",
    "          'Tropospheric delay',\n",
    "          'Phase ramp',\n",
    "          #'Topographic residual',\n",
    "          'Displacement']\n",
    "\n",
    "obj = timeseries(ts_files[0])\n",
    "obj.open(print_msg=False)\n",
    "ref_lat, ref_lon = float(obj.metadata['REF_LAT']), float(obj.metadata['REF_LON'])\n",
    "print('Done.')"
   ]
  },
  {
   "cell_type": "code",
   "execution_count": 15,
   "metadata": {},
   "outputs": [
    {
     "name": "stdout",
     "output_type": "stream",
     "text": [
      "lava_a.h5\n"
     ]
    },
    {
     "ename": "IndexError",
     "evalue": "too many indices for array",
     "output_type": "error",
     "traceback": [
      "\u001b[0;31m---------------------------------------------------------------------------\u001b[0m",
      "\u001b[0;31mIndexError\u001b[0m                                Traceback (most recent call last)",
      "\u001b[0;32m<ipython-input-15-b8ab7d33ca57>\u001b[0m in \u001b[0;36m<module>\u001b[0;34m\u001b[0m\n\u001b[1;32m     21\u001b[0m     \u001b[0mdata\u001b[0m \u001b[0;34m-=\u001b[0m \u001b[0mreadfile\u001b[0m\u001b[0;34m.\u001b[0m\u001b[0mread\u001b[0m\u001b[0;34m(\u001b[0m\u001b[0mfname\u001b[0m\u001b[0;34m,\u001b[0m \u001b[0mdatasetName\u001b[0m\u001b[0;34m=\u001b[0m\u001b[0mm_date\u001b[0m\u001b[0;34m,\u001b[0m \u001b[0mbox\u001b[0m\u001b[0;34m=\u001b[0m\u001b[0mpix_box\u001b[0m\u001b[0;34m)\u001b[0m\u001b[0;34m[\u001b[0m\u001b[0;36m0\u001b[0m\u001b[0;34m]\u001b[0m\u001b[0;34m\u001b[0m\u001b[0m\n\u001b[1;32m     22\u001b[0m     \u001b[0mdata\u001b[0m \u001b[0;34m*=\u001b[0m \u001b[0;36m100.\u001b[0m\u001b[0;34m\u001b[0m\u001b[0m\n\u001b[0;32m---> 23\u001b[0;31m     \u001b[0mdata\u001b[0m\u001b[0;34m[\u001b[0m\u001b[0mmask\u001b[0m\u001b[0;34m==\u001b[0m\u001b[0;36m0\u001b[0m\u001b[0;34m]\u001b[0m \u001b[0;34m=\u001b[0m \u001b[0mnp\u001b[0m\u001b[0;34m.\u001b[0m\u001b[0mnan\u001b[0m\u001b[0;34m\u001b[0m\u001b[0m\n\u001b[0m\u001b[1;32m     24\u001b[0m     \u001b[0mdata\u001b[0m \u001b[0;34m=\u001b[0m \u001b[0mut\u001b[0m\u001b[0;34m.\u001b[0m\u001b[0mwrap\u001b[0m\u001b[0;34m(\u001b[0m\u001b[0mdata\u001b[0m\u001b[0;34m,\u001b[0m \u001b[0mwrap_range\u001b[0m\u001b[0;34m=\u001b[0m\u001b[0mwrap_range\u001b[0m\u001b[0;34m)\u001b[0m\u001b[0;34m\u001b[0m\u001b[0m\n\u001b[1;32m     25\u001b[0m     \u001b[0mpha\u001b[0m\u001b[0;34m.\u001b[0m\u001b[0mappend\u001b[0m\u001b[0;34m(\u001b[0m\u001b[0mdata\u001b[0m\u001b[0;34m)\u001b[0m\u001b[0;34m\u001b[0m\u001b[0m\n",
      "\u001b[0;31mIndexError\u001b[0m: too many indices for array"
     ]
    }
   ],
   "source": [
    "## Figure 14a - Map View\n",
    "\n",
    "## prepare data\n",
    "# date of interest\n",
    "#m_date = '20150927'\n",
    "#s_date = '20160512'\n",
    "m_date = '20170204'\n",
    "s_date = '20180301'\n",
    "# area of interest\n",
    "W, N, E, S = -91.60, 0.18, -90.78, -1.07\n",
    "geo_box = (W, N, E, S)\n",
    "coord = ut.coordinate(obj.metadata)\n",
    "pix_box = coord.box_geo2pixel(geo_box)\n",
    "# read data\n",
    "wrap_range = [-1*np.pi, np.pi]\n",
    "mask = readfile.read(mask_file, box=pix_box)[0]\n",
    "print(mask_file)\n",
    "\n",
    "pha = []\n",
    "for fname in ts_files:\n",
    "    data  = readfile.read(fname, datasetName=s_date, box=pix_box)[0]\n",
    "    data -= readfile.read(fname, datasetName=m_date, box=pix_box)[0]\n",
    "    data *= 100.\n",
    "    data[mask==0] = np.nan\n",
    "    data = ut.wrap(data, wrap_range=wrap_range)\n",
    "    pha.append(data)\n",
    "\n",
    "## plot\n",
    "fig, ax = plt.subplots(nrows=1, ncols=5, figsize=[10, 4], sharex=True, sharey=True)\n",
    "for i in range(len(pha)):\n",
    "    m = pp.BasemapExt(llcrnrlon=geo_box[0], llcrnrlat=geo_box[3],\n",
    "                      urcrnrlon=geo_box[2], urcrnrlat=geo_box[1],\n",
    "                      projection='cyl', resolution='i', area_thresh=1.,\n",
    "                      suppress_ticks=False, ax=ax[i])\n",
    "    im = m.imshow(pha[i], origin='upper', interpolation='nearest',\n",
    "                  vmin=wrap_range[0], vmax=wrap_range[1], cmap='jet')\n",
    "    ax[i].plot(ref_lon, ref_lat, 'ks', ms=2)              #reference point\n",
    "    ax[i].plot(pts_lon, pts_lat, \"k^\", mfc='none', mew=1., ms=4)  #point of interest\n",
    "    ax[i].get_xaxis().set_ticks([])\n",
    "    ax[i].get_yaxis().set_ticks([])\n",
    "    ax[i].axis('off')\n",
    "fig.subplots_adjust(wspace=0.0)\n",
    "\n",
    "# colorbar\n",
    "cax = fig.add_axes([0.84, 0.61, 0.01, 0.16])\n",
    "cbar = plt.colorbar(im, cax=cax, ticks=[wrap_range[0], 0, wrap_range[1]])\n",
    "cbar.ax.set_yticklabels([r'-$\\pi$', '0', r'$\\pi$'])\n",
    "cbar.ax.tick_params(which='both', direction='out', labelsize=font_size)\n",
    "cbar.set_label('Phase [rad]', fontsize=font_size)\n",
    "\n",
    "# output\n",
    "out_file = os.path.join(work_dir, 'phaseCorrection_map.png')\n",
    "#plt.savefig(out_file, bbox_inches='tight', transparent=True, dpi=fig_dpi)\n",
    "print('save to file: '+out_file)\n",
    "plt.show()"
   ]
  },
  {
   "cell_type": "code",
   "execution_count": 6,
   "metadata": {},
   "outputs": [
    {
     "ename": "Exception",
     "evalue": "input file not existed: topoResid.h5\ncurrent directory: /media/lei/disk2/ErtaAle/20190605/SenAT14/PYSAR",
     "output_type": "error",
     "traceback": [
      "\u001b[0;31m---------------------------------------------------------------------------\u001b[0m",
      "\u001b[0;31mException\u001b[0m                                 Traceback (most recent call last)",
      "\u001b[0;32m<ipython-input-6-d801a13dfccb>\u001b[0m in \u001b[0;36m<module>\u001b[0;34m\u001b[0m\n\u001b[1;32m     13\u001b[0m \u001b[0;32mfor\u001b[0m \u001b[0mi\u001b[0m \u001b[0;32min\u001b[0m \u001b[0mrange\u001b[0m\u001b[0;34m(\u001b[0m\u001b[0mlen\u001b[0m\u001b[0;34m(\u001b[0m\u001b[0mts_files\u001b[0m\u001b[0;34m)\u001b[0m\u001b[0;34m-\u001b[0m\u001b[0;36m1\u001b[0m\u001b[0;34m,\u001b[0m \u001b[0;34m-\u001b[0m\u001b[0;36m1\u001b[0m\u001b[0;34m,\u001b[0m \u001b[0;34m-\u001b[0m\u001b[0;36m1\u001b[0m\u001b[0;34m)\u001b[0m\u001b[0;34m:\u001b[0m\u001b[0;34m\u001b[0m\u001b[0m\n\u001b[1;32m     14\u001b[0m     \u001b[0;31m# read point time-series data\u001b[0m\u001b[0;34m\u001b[0m\u001b[0;34m\u001b[0m\u001b[0m\n\u001b[0;32m---> 15\u001b[0;31m     \u001b[0md_ts\u001b[0m \u001b[0;34m=\u001b[0m \u001b[0mnp\u001b[0m\u001b[0;34m.\u001b[0m\u001b[0msqueeze\u001b[0m\u001b[0;34m(\u001b[0m\u001b[0mreadfile\u001b[0m\u001b[0;34m.\u001b[0m\u001b[0mread\u001b[0m\u001b[0;34m(\u001b[0m\u001b[0mts_files\u001b[0m\u001b[0;34m[\u001b[0m\u001b[0mi\u001b[0m\u001b[0;34m]\u001b[0m\u001b[0;34m,\u001b[0m \u001b[0mbox\u001b[0m\u001b[0;34m=\u001b[0m\u001b[0mbox\u001b[0m\u001b[0;34m)\u001b[0m\u001b[0;34m[\u001b[0m\u001b[0;36m0\u001b[0m\u001b[0;34m]\u001b[0m\u001b[0;34m)\u001b[0m \u001b[0;34m*\u001b[0m \u001b[0;36m100.\u001b[0m\u001b[0;34m\u001b[0m\u001b[0m\n\u001b[0m\u001b[1;32m     16\u001b[0m     \u001b[0md_ts\u001b[0m \u001b[0;34m-=\u001b[0m \u001b[0md_ts\u001b[0m\u001b[0;34m[\u001b[0m\u001b[0;36m0\u001b[0m\u001b[0;34m]\u001b[0m\u001b[0;34m\u001b[0m\u001b[0m\n\u001b[1;32m     17\u001b[0m     \u001b[0md_ts\u001b[0m \u001b[0;34m+=\u001b[0m \u001b[0moffset\u001b[0m\u001b[0;34m[\u001b[0m\u001b[0mi\u001b[0m\u001b[0;34m]\u001b[0m\u001b[0;34m\u001b[0m\u001b[0m\n",
      "\u001b[0;32m/opt/PySAR/pysar/utils/readfile.py\u001b[0m in \u001b[0;36mread\u001b[0;34m(fname, box, datasetName, print_msg)\u001b[0m\n\u001b[1;32m    180\u001b[0m     \u001b[0;32melif\u001b[0m \u001b[0misinstance\u001b[0m\u001b[0;34m(\u001b[0m\u001b[0mdatasetName\u001b[0m\u001b[0;34m,\u001b[0m \u001b[0mstr\u001b[0m\u001b[0;34m)\u001b[0m\u001b[0;34m:\u001b[0m\u001b[0;34m\u001b[0m\u001b[0m\n\u001b[1;32m    181\u001b[0m         \u001b[0mdsname4atr\u001b[0m \u001b[0;34m=\u001b[0m \u001b[0mdatasetName\u001b[0m\u001b[0;34m.\u001b[0m\u001b[0msplit\u001b[0m\u001b[0;34m(\u001b[0m\u001b[0;34m'-'\u001b[0m\u001b[0;34m)\u001b[0m\u001b[0;34m[\u001b[0m\u001b[0;36m0\u001b[0m\u001b[0;34m]\u001b[0m\u001b[0;34m\u001b[0m\u001b[0m\n\u001b[0;32m--> 182\u001b[0;31m     \u001b[0matr\u001b[0m \u001b[0;34m=\u001b[0m \u001b[0mread_attribute\u001b[0m\u001b[0;34m(\u001b[0m\u001b[0mfname\u001b[0m\u001b[0;34m,\u001b[0m \u001b[0mdatasetName\u001b[0m\u001b[0;34m=\u001b[0m\u001b[0mdsname4atr\u001b[0m\u001b[0;34m)\u001b[0m\u001b[0;34m\u001b[0m\u001b[0m\n\u001b[0m\u001b[1;32m    183\u001b[0m \u001b[0;34m\u001b[0m\u001b[0m\n\u001b[1;32m    184\u001b[0m     \u001b[0;31m# box\u001b[0m\u001b[0;34m\u001b[0m\u001b[0;34m\u001b[0m\u001b[0m\n",
      "\u001b[0;32m/opt/PySAR/pysar/utils/readfile.py\u001b[0m in \u001b[0;36mread_attribute\u001b[0;34m(fname, datasetName, standardize, metafile_ext)\u001b[0m\n\u001b[1;32m    532\u001b[0m         \u001b[0mmsg\u001b[0m \u001b[0;34m=\u001b[0m \u001b[0;34m'input file not existed: {}\\n'\u001b[0m\u001b[0;34m.\u001b[0m\u001b[0mformat\u001b[0m\u001b[0;34m(\u001b[0m\u001b[0mfname\u001b[0m\u001b[0;34m)\u001b[0m\u001b[0;34m\u001b[0m\u001b[0m\n\u001b[1;32m    533\u001b[0m         \u001b[0mmsg\u001b[0m \u001b[0;34m+=\u001b[0m \u001b[0;34m'current directory: '\u001b[0m\u001b[0;34m+\u001b[0m\u001b[0mos\u001b[0m\u001b[0;34m.\u001b[0m\u001b[0mgetcwd\u001b[0m\u001b[0;34m(\u001b[0m\u001b[0;34m)\u001b[0m\u001b[0;34m\u001b[0m\u001b[0m\n\u001b[0;32m--> 534\u001b[0;31m         \u001b[0;32mraise\u001b[0m \u001b[0mException\u001b[0m\u001b[0;34m(\u001b[0m\u001b[0mmsg\u001b[0m\u001b[0;34m)\u001b[0m\u001b[0;34m\u001b[0m\u001b[0m\n\u001b[0m\u001b[1;32m    535\u001b[0m \u001b[0;34m\u001b[0m\u001b[0m\n\u001b[1;32m    536\u001b[0m     \u001b[0;31m# HDF5 files\u001b[0m\u001b[0;34m\u001b[0m\u001b[0;34m\u001b[0m\u001b[0m\n",
      "\u001b[0;31mException\u001b[0m: input file not existed: topoResid.h5\ncurrent directory: /media/lei/disk2/ErtaAle/20190605/SenAT14/PYSAR"
     ]
    },
    {
     "data": {
      "image/png": "[encoded data removed]",
      "text/plain": [
       "<Figure size 504x252 with 1 Axes>"
      ]
     },
     "metadata": {
      "needs_background": "light"
     },
     "output_type": "display_data"
    }
   ],
   "source": [
    "## Figure 14b - Point View\n",
    "\n",
    "## time/space info\n",
    "y, x = coord.geo2radar(pts_lat, pts_lon)[0:2]\n",
    "box = (x, y, x+1, y+1)\n",
    "dates = ptime.date_list2vector(obj.dateList)[0]\n",
    "\n",
    "# plot\n",
    "marker_size = 6\n",
    "offset = [50, 38, 22, 10, 0]\n",
    "fig, ax = plt.subplots(nrows=1, ncols=1, figsize=[7, 3.5])\n",
    "ts_data = []\n",
    "for i in range(len(ts_files)-1, -1, -1):\n",
    "    # read point time-series data\n",
    "    d_ts = np.squeeze(readfile.read(ts_files[i], box=box)[0]) * 100.\n",
    "    d_ts -= d_ts[0]\n",
    "    d_ts += offset[i]\n",
    "    # plot\n",
    "    ms = marker_size - 1 * (len(ts_files) - 1 - i)\n",
    "    ax.scatter(dates, d_ts, marker='^', s=ms**2, label=labels[i], facecolors='none', edgecolors='k', linewidth=1.)\n",
    "    ax.annotate(labels[i], xy=(1.02, d_ts[-1]-2), xycoords=ax.get_yaxis_transform(), color='k', fontsize=font_size)\n",
    "\n",
    "# axis format\n",
    "ax.tick_params(which='both', direction='in', labelsize=font_size, bottom=True, top=True, left=True, right=True)\n",
    "ax, t0, t1 = pp.auto_adjust_xaxis_date(ax, obj.yearList, fontsize=font_size)\n",
    "ax.set_xlabel('Time [years]', fontsize=font_size)\n",
    "ax.set_ylabel('Range change history [cm]', fontsize=font_size)\n",
    "ax.set_ylim(-10, 65)\n",
    "ax.set_xlim(t0+relativedelta(months=2), t1)\n",
    "ax.yaxis.set_minor_locator(AutoMinorLocator())\n",
    "\n",
    "out_file = os.path.join(work_dir, 'phaseCorrection_point.png')\n",
    "#plt.savefig(out_file, bbox_inches='tight', transparent=True, dpi=fig_dpi)\n",
    "print('save to file: '+out_file)\n",
    "plt.show()"
   ]
  },
  {
   "cell_type": "code",
   "execution_count": 11,
   "metadata": {},
   "outputs": [
    {
     "name": "stdout",
     "output_type": "stream",
     "text": [
      "view.py geo_timeseries.h5 -m maskIsabela.h5 -o GalapagosSenDT128_ts_raw.png --sub-lat -1.07 0.18 --sub-lon -91.6 -90.78 --wrap --wrap-range -10 10 --nomultilook --noaxis --notick --notitle --no-tight-layout --figsize 8 10 --fontsize 6 --dpi 600 --nodisplay \n",
      "view.py geo_timeseries_ECMWF.h5 -m maskIsabela.h5 -o GalapagosSenDT128_ts_raw_trop.png --sub-lat -1.07 0.18 --sub-lon -91.6 -90.78 --wrap --wrap-range -10 10 --nomultilook --noaxis --notick --notitle --no-tight-layout --figsize 8 10 --fontsize 6 --dpi 600 --nodisplay \n",
      "view.py geo_timeseries_ECMWF_demErr.h5 -m maskIsabela.h5 -o GalapagosSenDT128_ts_raw_trop_topo.png --sub-lat -1.07 0.18 --sub-lon -91.6 -90.78 --wrap --wrap-range -10 10 --nomultilook --noaxis --notick --notitle --no-tight-layout --figsize 8 10 --fontsize 6 --dpi 600 --nodisplay \n",
      "view.py geo_timeseries_ECMWF_demErr_ramp.h5 -m maskIsabela.h5 -o GalapagosSenDT128_ts_raw_trop_topo_ramp.png --sub-lat -1.07 0.18 --sub-lon -91.6 -90.78 --wrap --wrap-range -10 10 --nomultilook --noaxis --notick --notitle --no-tight-layout --figsize 8 10 --fontsize 6 --dpi 600 --nodisplay \n"
     ]
    }
   ],
   "source": [
    "## Backup - time-series map view for supp\n",
    "\n",
    "ts_files = ['geo_timeseries.h5', \n",
    "            'geo_timeseries_ECMWF.h5', \n",
    "            'geo_timeseries_ECMWF_demErr.h5', \n",
    "            'geo_timeseries_ECMWF_demErr_ramp.h5']\n",
    "suffix = ['ts_raw',\n",
    "          'ts_raw_trop',\n",
    "          'ts_raw_trop_topo',\n",
    "          'ts_raw_trop_topo_ramp']\n",
    "for i in range(len(ts_files)):\n",
    "    cmd =  'view.py {} -m {} -o {}_{}.png '.format(ts_files[i], mask_file, proj_name, suffix[i])\n",
    "    cmd += '--sub-lat {} {} --sub-lon {} {} '.format(S, N, W, E)\n",
    "    cmd += '--wrap --wrap-range -10 10 '\n",
    "    cmd += '--nomultilook --noaxis --notick --notitle --no-tight-layout '\n",
    "    cmd += '--figsize 8 10 --fontsize 6 --dpi 600 --nodisplay '\n",
    "    print(cmd)\n",
    "    #os.system(cmd)"
   ]
  },
  {
   "cell_type": "code",
   "execution_count": null,
   "metadata": {},
   "outputs": [],
   "source": []
  }
 ],
 "metadata": {
  "kernelspec": {
   "display_name": "Python 3",
   "language": "python",
   "name": "python3"
  },
  "language_info": {
   "codemirror_mode": {
    "name": "ipython",
    "version": 3
   },
   "file_extension": ".py",
   "mimetype": "text/x-python",
   "name": "python",
   "nbconvert_exporter": "python",
   "pygments_lexer": "ipython3",
   "version": "3.5.2"
  }
 },
 "nbformat": 4,
 "nbformat_minor": 2
}
